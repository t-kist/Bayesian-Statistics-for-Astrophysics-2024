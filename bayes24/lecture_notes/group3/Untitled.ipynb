{
 "cells": [
  {
   "cell_type": "code",
   "id": "ab34015e",
   "metadata": {
    "ExecuteTime": {
     "end_time": "2024-10-09T16:48:02.885044Z",
     "start_time": "2024-10-09T16:48:02.868791Z"
    }
   },
   "source": "print('Hello world')",
   "outputs": [
    {
     "name": "stdout",
     "output_type": "stream",
     "text": [
      "Hello world\n"
     ]
    }
   ],
   "execution_count": 2
  },
  {
   "metadata": {},
   "cell_type": "code",
   "outputs": [],
   "execution_count": null,
   "source": "",
   "id": "ec654392a084ff26"
  }
 ],
 "metadata": {
  "kernelspec": {
   "display_name": "Python 3 (ipykernel)",
   "language": "python",
   "name": "python3"
  },
  "language_info": {
   "codemirror_mode": {
    "name": "ipython",
    "version": 3
   },
   "file_extension": ".py",
   "mimetype": "text/x-python",
   "name": "python",
   "nbconvert_exporter": "python",
   "pygments_lexer": "ipython3",
   "version": "3.9.12"
  }
 },
 "nbformat": 4,
 "nbformat_minor": 5
}
