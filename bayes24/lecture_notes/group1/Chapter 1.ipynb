{
 "cells": [
  {
   "cell_type": "markdown",
   "source": [
    "In this chapter we'll explore hypothesis testing."
   ],
   "metadata": {
    "collapsed": false
   },
   "id": "283ccdf132b170ad"
  },
  {
   "cell_type": "code",
   "outputs": [],
   "source": [],
   "metadata": {
    "collapsed": false
   },
   "id": "82d49440c49d0580"
  }
 ],
 "metadata": {
  "kernelspec": {
   "display_name": "Python 3",
   "language": "python",
   "name": "python3"
  },
  "language_info": {
   "codemirror_mode": {
    "name": "ipython",
    "version": 2
   },
   "file_extension": ".py",
   "mimetype": "text/x-python",
   "name": "python",
   "nbconvert_exporter": "python",
   "pygments_lexer": "ipython2",
   "version": "2.7.6"
  }
 },
 "nbformat": 4,
 "nbformat_minor": 5
}
