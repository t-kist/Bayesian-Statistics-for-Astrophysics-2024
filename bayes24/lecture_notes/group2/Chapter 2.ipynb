{
 "cells": [
  {
   "cell_type": "markdown",
   "id": "1c781715",
   "metadata": {},
   "source": [
    "The beginning of summarizing chapter 2: Nested models "
   ]
  },
  {
   "cell_type": "markdown",
   "id": "60829496",
   "metadata": {},
   "source": [
    "# Chapter 2: Nested models and bootstrap"
   ]
  },
  {
   "cell_type": "markdown",
   "id": "e8323d65",
   "metadata": {},
   "source": [
    "Nested models; or when to stop adding more parameters;\n",
    "- Akaike information criterion (AIC) and BIC\n",
    "Bootstrap method for confidence intervals (Par 6.5 en 6.6 van lecture notes)\n",
    "- Work out example with comparison to least-squares confidence intervals"
   ]
  },
  {
   "cell_type": "markdown",
   "id": "c49d2e1c",
   "metadata": {},
   "source": [
    "Bayesian hierarchical modelling is a statistical model written in multiple levels (hierarchical form) that estimates the parameters of the posterior distribution using the Bayesian method.[1] The sub-models combine to form the hierarchical model, and Bayes' theorem is used to integrate them with the observed data and account for all the uncertainty that is present. The result of this integration is the posterior distribution, also known as the updated probability estimate, as additional evidence on the prior distribution is acquired. Source: Wikipedia hehe"
   ]
  }
 ],
 "metadata": {
  "kernelspec": {
   "display_name": "bayes24",
   "language": "python",
   "name": "python3"
  },
  "language_info": {
   "codemirror_mode": {
    "name": "ipython",
    "version": 3
   },
   "file_extension": ".py",
   "mimetype": "text/x-python",
   "name": "python",
   "nbconvert_exporter": "python",
   "pygments_lexer": "ipython3",
   "version": "3.9.19"
  }
 },
 "nbformat": 4,
 "nbformat_minor": 5
}
