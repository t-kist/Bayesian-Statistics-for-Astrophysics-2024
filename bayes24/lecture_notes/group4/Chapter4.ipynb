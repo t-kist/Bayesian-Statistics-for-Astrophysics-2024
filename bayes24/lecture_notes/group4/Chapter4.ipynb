{
 "cells": [
  {
   "metadata": {},
   "cell_type": "markdown",
   "source": [
    "# Chapter 4: Bayesian inference\n",
    "## The steps of Bayesian inference\n",
    "To make inferences ('conclusions reached on the basis of evidence and reasoning') about an hypothesis or unknown parameters, Bayesian inference can be used. Bayesian inference is the method of statistical inference, that uses Bayes theorem, to update the probability estimate about the hypothesis or unknown parameters. This process follows three steps:\n",
    "\n",
    "### Step 1: Choose a prior \n",
    "This first step of Bayesian inference requires choosing a so called **prior** (or prior probability distribution/density). The prior represents the initial belief about the hypothesis or the possible values of the parameters before observing the **data y**. Imagine if we want to predict the weather for tomorrow, our prior can consist of the weather's data from the last few days. During this chapter, we will give the priors needed for examples. In **Chapter 5** more information about priors; how to choose them and how to use them in an analytical manner will be explained. \n",
    "\n",
    "This prior is defined as **f ( $\\theta$ )**. Here $\\theta$ is the unknown parameter we want to make inferences about. \n",
    "\n",
    "### Step 2: Choose a statistical model\n",
    "We need to choose a generative model about the observed data given different hypothesis and parameter values (let's call this data x). This model is then defined by y $\\sim$ f ( $\\theta$ , x). By doing this, we determine the **likelihood: f (y | $\\theta$ )**. In our example of determining the weather for tomorrow, we can see the likelihood like this: If it's cloudy today, the likelihood would quantify how much this piece of evidence supports or contradicts our prior belief about rain. \n",
    "\n",
    "### Step 3: Calculate the posterior density\n",
    "The final step of Bayesian inference consists of updating the prior of step 1 by using the found likelihood in step 2. By combining the prior and likelihood, we obtain the **posterior density**. The posterior density is defined as: Posterior $\\propto$ Prior x Likelihood. Or written in the prior (f ( $\\theta$ )) and likelihood (f (y | $\\theta$ )) we determined in respectively **steps 1 & 2**:\n",
    "\n",
    "f ( $\\theta$ | y) $\\propto$ f ( $\\theta$ ) x f (y | $\\theta$ ) \n",
    "\n",
    "We can calculate the posterior f ( $\\theta$ | y,x) by applying **Bayes theorem**, which we defined in **Chapter 3** as P(A | B) = $\\frac{P ( B | A ) P ( A )}{P ( B )}$. "
   ],
   "id": "8a629051e5137f99"
  },
  {
   "metadata": {},
   "cell_type": "markdown",
   "source": [
    "## Examples\n",
    "Ideas:<misschien kunnen we iets in deze trend doen, ja dit is een compleet uitgewerkt protocol maar misschien goede baseline. \n",
    "\\url{https://arxiv.org/pdf/2302.04703}\n",
    "en als we niet teveel willen kopieren kunnen we en andere astronomisch ding kiezen. misschien:\n",
    "\n",
    "Photon detection (poisson) van een blackbody in E-regime waar je onder de 10 photonen hebt dan hebben we gelijk de verdeling en dan zeggen we poef gaswol ervoor die optical thick is en 100 procent van allle photonen in een range a<x<b absorbeert -> prior\n",
    "\n",
    "Galaxy density profiles: we kunnen allerlei oude modellen pakken en die verglijken met de \"beste\" en dan een K-S test (of gewoon op oog) uitvoeren op observatie data en de twee modellen\n",
    "\n",
    "Ipv een blackbody radiator kunnen we kijken naar synchotron radiation of een combinatie van en dan als doel om f =   a* BB + (1-a) * Synchrotron en dan dat oplossen met een parameter grid voor hoeveel het ene en het andere\n",
    "\n",
    "e.g. \\url{https://www.aanda.org/articles/aa/full_html/2013/04/aa20073-12/aa20073-12.html}"
   ],
   "id": "70e886a678bc92a5"
  }
 ],
 "metadata": {
  "kernelspec": {
   "name": "python3",
   "language": "python",
   "display_name": "Python 3 (ipykernel)"
  },
  "language_info": {
   "codemirror_mode": {
    "name": "ipython",
    "version": 3
   },
   "file_extension": ".py",
   "mimetype": "text/x-python",
   "name": "python",
   "nbconvert_exporter": "python",
   "pygments_lexer": "ipython3",
   "version": "3.9.19"
  }
 },
 "nbformat": 4,
 "nbformat_minor": 5
}
